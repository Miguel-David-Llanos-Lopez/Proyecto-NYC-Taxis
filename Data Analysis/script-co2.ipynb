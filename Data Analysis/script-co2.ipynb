{
 "cells": [
  {
   "cell_type": "markdown",
   "metadata": {},
   "source": [
    "Se procede a combinar los datos de CO2 con las zonas usando shape-leng y shape-area, ya que,en el archivo taxi_zones.dbf están las columnas:\n",
    "Shape-Leng: Es la longitud del perímetro del polígono (zona).\n",
    "Shape-Area: Es el área del polígono recorrido.Y en el archivo Vehicle Fuel Economy Data.csv se encuentran las columnas de:\n",
    "combustible utilizado en cada auto.Por lo tanto se hara una conversion que me permita sacar las emisiones de CO2 y asociarlas a los km recorridos."
   ]
  },
  {
   "cell_type": "code",
   "execution_count": 1,
   "metadata": {},
   "outputs": [],
   "source": [
    "import pandas as pd\n",
    "import numpy as np\n",
    "import matplotlib.pyplot as plt\n",
    "import seaborn as sns\n",
    "import missingno as msno \n",
    "import warnings\n",
    "from dbfread import DBF\n"
   ]
  },
  {
   "cell_type": "markdown",
   "metadata": {},
   "source": [
    "Ignorar mensajes de advertencias"
   ]
  },
  {
   "cell_type": "code",
   "execution_count": 3,
   "metadata": {},
   "outputs": [],
   "source": [
    "warnings.filterwarnings(\"ignore\")"
   ]
  },
  {
   "cell_type": "markdown",
   "metadata": {},
   "source": [
    "Ingesta y lectura de los archivos."
   ]
  },
  {
   "cell_type": "code",
   "execution_count": 12,
   "metadata": {},
   "outputs": [],
   "source": [
    "# Leer el archivo .dbf\n",
    "dbf_path = r'C:\\\\Users\\\\walter\\\\Desktop\\\\Proyecto-NYC-Taxis\\\\Data\\\\taxi_zones.dbf'\n",
    "table = DBF(dbf_path)\n",
    "\n",
    "\n"
   ]
  },
  {
   "cell_type": "code",
   "execution_count": 13,
   "metadata": {},
   "outputs": [],
   "source": [
    "# Convertir a un DataFrame de pandas\n",
    "df_zonas = pd.DataFrame(iter(table))"
   ]
  },
  {
   "cell_type": "code",
   "execution_count": 14,
   "metadata": {},
   "outputs": [
    {
     "name": "stdout",
     "output_type": "stream",
     "text": [
      "   OBJECTID  Shape_Leng  Shape_Area                     zone  LocationID  \\\n",
      "0         1    0.116357    0.000782           Newark Airport           1   \n",
      "1         2    0.433470    0.004866              Jamaica Bay           2   \n",
      "2         3    0.084341    0.000314  Allerton/Pelham Gardens           3   \n",
      "3         4    0.043567    0.000112            Alphabet City           4   \n",
      "4         5    0.092146    0.000498            Arden Heights           5   \n",
      "\n",
      "         borough  \n",
      "0            EWR  \n",
      "1         Queens  \n",
      "2          Bronx  \n",
      "3      Manhattan  \n",
      "4  Staten Island  \n"
     ]
    }
   ],
   "source": [
    "print(df_zonas.head())"
   ]
  },
  {
   "cell_type": "code",
   "execution_count": 29,
   "metadata": {},
   "outputs": [
    {
     "name": "stdout",
     "output_type": "stream",
     "text": [
      "   Year Manufacturer                          Model  barrels08  barrelsA08  \\\n",
      "0  2017          BMW                       M6 Coupe  17.500588         0.0   \n",
      "1  2017          BMW                   X3 sDrive28i  12.396250         0.0   \n",
      "2  2016     Infiniti                 Q50S Red Sport  13.523182         0.0   \n",
      "3  2017         MINI  John Cooper Works Convertible  11.018889         0.0   \n",
      "4  2017          Kia                      Sedona SX  14.167143         0.0   \n",
      "\n",
      "   charge240  city08  city08U  cityA08  cityA08U  ...  mfrCode  c240Dscr  \\\n",
      "0        0.0    15.0     14.0      0.0       0.0  ...      BMX       NaN   \n",
      "1        0.0    21.0     21.0      0.0       0.0  ...      BMX       NaN   \n",
      "2        0.0    20.0     19.0      0.0       0.0  ...      NSX       NaN   \n",
      "3        0.0    24.0     23.0      0.0       0.0  ...      BMX       NaN   \n",
      "4        0.0    18.0     18.0      0.0       0.0  ...      KMX       NaN   \n",
      "\n",
      "   charge240b  c240bDscr   createdOn  modifiedOn  startStop  phevCity  \\\n",
      "0         0.0        NaN  04-04-2016  09-09-2016          Y       0.0   \n",
      "1         0.0        NaN  04-04-2016  22-11-2016          Y       0.0   \n",
      "2         0.0        NaN  04-04-2016  26-09-2016          N       0.0   \n",
      "3         0.0        NaN  12-04-2016  16-09-2016          Y       0.0   \n",
      "4         0.0        NaN  12-04-2016  02-12-2016          N       0.0   \n",
      "\n",
      "   phevHwy  phevComb  \n",
      "0      0.0       0.0  \n",
      "1      0.0       0.0  \n",
      "2      0.0       0.0  \n",
      "3      0.0       0.0  \n",
      "4      0.0       0.0  \n",
      "\n",
      "[5 rows x 82 columns]\n"
     ]
    }
   ],
   "source": [
    "df_co2 = pd.read_csv(r'C:\\Users\\walter\\Desktop\\Proyecto-NYC-Taxis\\Data\\Vehicle Fuel Economy Data.csv')\n",
    "print(df_co2.head())\n"
   ]
  },
  {
   "cell_type": "markdown",
   "metadata": {},
   "source": [
    "Armar el consumo generado"
   ]
  },
  {
   "cell_type": "code",
   "execution_count": 40,
   "metadata": {},
   "outputs": [],
   "source": [
    "# DataFrame con rendimiento en ciudad\n",
    "data = {\n",
    "    'Year': [2017, 2017, 2016],\n",
    "    'Manufacturer': ['BMW', 'BMW', 'Infiniti'],\n",
    "    'Model': ['M6 Coupe', 'X3 sDrive28i', 'Q50S Red Sport'],\n",
    "     'barrels08': [17.5, 12.4, 13.5],\n",
    "     'barrelsA08': [0.0, 0.0, 0.0]  \n",
    "}\n",
    "\n"
   ]
  },
  {
   "cell_type": "code",
   "execution_count": 41,
   "metadata": {},
   "outputs": [],
   "source": [
    "df_combustible = pd.DataFrame(data)"
   ]
  },
  {
   "cell_type": "code",
   "execution_count": 44,
   "metadata": {},
   "outputs": [],
   "source": [
    "# Calcula el total de combustible\n",
    "df_combustible['Total_Fuel'] = df_combustible['barrels08'] + df_combustible['barrelsA08']\n",
    "\n"
   ]
  },
  {
   "cell_type": "code",
   "execution_count": 45,
   "metadata": {},
   "outputs": [],
   "source": [
    "model_to_zone = {\n",
    "    'M6 Coupe': 'Zone',\n",
    "    'X3 sDrive28i': 'Zone',\n",
    "    'Q50S Red Sport': 'Zone'\n",
    "}\n"
   ]
  },
  {
   "cell_type": "code",
   "execution_count": 46,
   "metadata": {},
   "outputs": [],
   "source": [
    "# Se asocia el modelo con la zona\n",
    "df_combustible['Zone'] = df_combustible['Model'].map(model_to_zone)\n"
   ]
  },
  {
   "cell_type": "code",
   "execution_count": 47,
   "metadata": {},
   "outputs": [],
   "source": [
    "# Se agrupa por zona y calcula el total de combustible\n",
    "df_zone_fuel = df_combustible.groupby('Zone')['Total_Fuel'].sum().reset_index()"
   ]
  },
  {
   "cell_type": "code",
   "execution_count": 48,
   "metadata": {},
   "outputs": [
    {
     "name": "stdout",
     "output_type": "stream",
     "text": [
      "   Zone  Total_Fuel\n",
      "0  Zone        43.4\n"
     ]
    }
   ],
   "source": [
    "print(df_zone_fuel)"
   ]
  },
  {
   "cell_type": "code",
   "execution_count": 49,
   "metadata": {},
   "outputs": [
    {
     "name": "stdout",
     "output_type": "stream",
     "text": [
      "Emisiones Totales en Toneladas: 0.385826\n"
     ]
    }
   ],
   "source": [
    "# Total de combustible en galones\n",
    "total_combustible_galones = 43.4\n",
    "\n",
    "# Tasa de emisión de CO₂ en toneladas por galón\n",
    "tasa_emision = 0.00889\n",
    "\n",
    "# Calcular las emisiones totales\n",
    "emisiones_totales = total_combustible_galones * tasa_emision\n",
    "print(f'Emisiones Totales en Toneladas: {emisiones_totales}')\n"
   ]
  },
  {
   "cell_type": "code",
   "execution_count": 68,
   "metadata": {},
   "outputs": [
    {
     "name": "stdout",
     "output_type": "stream",
     "text": [
      "\n",
      "Distribución de emisiones entre distritos:\n",
      "                      Zone       District  CO2_Emissions  \\\n",
      "0           Newark Airport            EWR       0.077165   \n",
      "1              Jamaica Bay         Queens       0.077165   \n",
      "2  Allerton/Pelham Gardens          Bronx       0.077165   \n",
      "3            Alphabet City      Manhattan       0.077165   \n",
      "4            Arden Heights  Staten Island       0.077165   \n",
      "\n",
      "   Proporcion_Emisiones  District_CO2_Emissions  \n",
      "0                   0.2                0.015433  \n",
      "1                   0.2                0.015433  \n",
      "2                   0.2                0.015433  \n",
      "3                   0.2                0.015433  \n",
      "4                   0.2                0.015433  \n"
     ]
    }
   ],
   "source": [
    "\n",
    "# Datos de zonas con emisiones calculadas\n",
    "df_zone_fuel = pd.DataFrame({\n",
    "    'Zone': ['Newark Airport', 'Jamaica Bay', 'Allerton/Pelham Gardens', 'Alphabet City', 'Arden Heights'],\n",
    "    'Total_Fuel': [43.4 / 5] * 5,  # Combustible distribuido uniformemente\n",
    "    'CO2_Emissions': [43.4 / 5 * 0.00889] * 5  # Emisiones calculadas\n",
    "})\n",
    "\n",
    "# Datos de distritos\n",
    "df_zonas_distritos = pd.DataFrame({\n",
    "    'Zone': ['Newark Airport', 'Jamaica Bay', 'Allerton/Pelham Gardens', 'Alphabet City', 'Arden Heights'],\n",
    "    'District': ['EWR', 'Queens', 'Bronx', 'Manhattan', 'Staten Island']\n",
    "})\n",
    "\n",
    "# Une los datos de zonas con los distritos\n",
    "df_zonas_distritos = pd.merge(df_zonas_distritos, df_zone_fuel[['Zone', 'CO2_Emissions']], on='Zone', how='left')\n",
    "\n",
    "# Calcula la proporción de emisiones\n",
    "df_zonas_distritos['Proporcion_Emisiones'] = df_zonas_distritos['CO2_Emissions'] / df_zonas_distritos['CO2_Emissions'].sum()\n",
    "\n",
    "# Distribuye las emisiones entre los distritos\n",
    "df_zonas_distritos['District_CO2_Emissions'] = df_zonas_distritos['Proporcion_Emisiones'] * df_zonas_distritos['CO2_Emissions']\n",
    "\n",
    "print(\"\\nDistribución de emisiones entre distritos:\")\n",
    "print(df_zonas_distritos)"
   ]
  },
  {
   "cell_type": "markdown",
   "metadata": {},
   "source": [
    "Se redondea a 3 decimales "
   ]
  },
  {
   "cell_type": "code",
   "execution_count": 69,
   "metadata": {},
   "outputs": [
    {
     "name": "stdout",
     "output_type": "stream",
     "text": [
      "\n",
      "Distribución de emisiones entre distritos con valores redondeados:\n",
      "                      Zone       District  CO2_Emissions  \\\n",
      "0           Newark Airport            EWR          0.077   \n",
      "1              Jamaica Bay         Queens          0.077   \n",
      "2  Allerton/Pelham Gardens          Bronx          0.077   \n",
      "3            Alphabet City      Manhattan          0.077   \n",
      "4            Arden Heights  Staten Island          0.077   \n",
      "\n",
      "   Proporcion_Emisiones  District_CO2_Emissions  \n",
      "0                   0.2                   0.015  \n",
      "1                   0.2                   0.015  \n",
      "2                   0.2                   0.015  \n",
      "3                   0.2                   0.015  \n",
      "4                   0.2                   0.015  \n"
     ]
    }
   ],
   "source": [
    "# Redondeo\n",
    "df_zonas_distritos = df_zonas_distritos.round(3)\n",
    "\n",
    "print(\"\\nDistribución de emisiones entre distritos con valores redondeados:\")\n",
    "print(df_zonas_distritos)"
   ]
  },
  {
   "cell_type": "markdown",
   "metadata": {},
   "source": [
    "Se guarda en archivo csv manejable"
   ]
  },
  {
   "cell_type": "code",
   "execution_count": 70,
   "metadata": {},
   "outputs": [],
   "source": [
    "# Guardar el DataFrame en un archivo CSV\n",
    "df_zonas_distritos.to_csv('zonas_distritos_emisiones.csv', index=False)\n"
   ]
  },
  {
   "cell_type": "markdown",
   "metadata": {},
   "source": [
    "Se rellee para confirmación que no se hayan modificado ningun dato"
   ]
  },
  {
   "cell_type": "code",
   "execution_count": 71,
   "metadata": {},
   "outputs": [
    {
     "name": "stdout",
     "output_type": "stream",
     "text": [
      "                      Zone       District  CO2_Emissions  \\\n",
      "0           Newark Airport            EWR          0.077   \n",
      "1              Jamaica Bay         Queens          0.077   \n",
      "2  Allerton/Pelham Gardens          Bronx          0.077   \n",
      "3            Alphabet City      Manhattan          0.077   \n",
      "4            Arden Heights  Staten Island          0.077   \n",
      "\n",
      "   Proporcion_Emisiones  District_CO2_Emissions  \n",
      "0                   0.2                   0.015  \n",
      "1                   0.2                   0.015  \n",
      "2                   0.2                   0.015  \n",
      "3                   0.2                   0.015  \n",
      "4                   0.2                   0.015  \n"
     ]
    }
   ],
   "source": [
    "df_zonas_distritos_leido = pd.read_csv('zonas_distritos_emisiones.csv')\n",
    "\n",
    "print(df_zonas_distritos_leido)\n"
   ]
  },
  {
   "cell_type": "markdown",
   "metadata": {},
   "source": [
    "Conclusión :\n",
    "Los valores redondeados a 3 decimales proporcionan una representación precisa y manejable de las emisiones en cada distrito, lo que facilita su análisis y visualización en herramientas como Power BI."
   ]
  }
 ],
 "metadata": {
  "kernelspec": {
   "display_name": "Python 3",
   "language": "python",
   "name": "python3"
  },
  "language_info": {
   "codemirror_mode": {
    "name": "ipython",
    "version": 3
   },
   "file_extension": ".py",
   "mimetype": "text/x-python",
   "name": "python",
   "nbconvert_exporter": "python",
   "pygments_lexer": "ipython3",
   "version": "3.11.4"
  }
 },
 "nbformat": 4,
 "nbformat_minor": 2
}
